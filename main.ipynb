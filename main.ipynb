{
 "cells": [
  {
   "cell_type": "code",
   "execution_count": null,
   "metadata": {},
   "outputs": [],
   "source": [
    "import pandas\n",
    "\n",
    "import seaborn as sns\n",
    "import matplotlib.pyplot as plt\n",
    "import geopandas as gpd\n",
    "from shapely.geometry import multipolygon, polygon, Polygon, MultiPolygon\n",
    "\n",
    "from IPython.core.interactiveshell import InteractiveShell\n",
    "InteractiveShell.ast_node_interactivity = \"all\"\n",
    "\n",
    "pandas.options.display.max_columns = 100\n"
   ]
  },
  {
   "cell_type": "markdown",
   "metadata": {},
   "source": [
    "### Notebook objectives\n",
    "\n",
    "* Load in data of 2019 General election data (2024) when available\n",
    "* Understand how to plot a shape file\n",
    "* How to link the Results to the consituency map shape file"
   ]
  },
  {
   "cell_type": "markdown",
   "metadata": {},
   "source": [
    "## Data Loading\n",
    "\n",
    "* Created a Data drive to store the files. Able to read in the voting results data and parliment boundaries shape data and basically plot it.\n",
    "* The results data shows consituency id (ONS ID), as well as winning party, type of result (Gain vs Hold) and vote breakdown.\n",
    "* loading in the Geopandas data shows that the table is GeoDataFrame type.\n",
    "* The UK is plotted out which shows that the plotting (and adding) of each constituency to the plot forms a complete picture"
   ]
  },
  {
   "cell_type": "code",
   "execution_count": null,
   "metadata": {},
   "outputs": [],
   "source": [
    "# Read in the data, first row is table header\n",
    "data = \"data/ge_2019_results.xlsx\"\n",
    "results = pandas.read_excel(data, header=1)\n",
    "\n",
    "map_data = \"data/PCON_DEC_2019_UK_BFC.shp\"\n",
    "boundaries_map = gpd.read_file(map_data)\n",
    "results.head()\n",
    "boundaries_map.head()\n",
    "boundaries_map.info()\n",
    "boundaries_map.plot()\n"
   ]
  },
  {
   "cell_type": "markdown",
   "metadata": {},
   "source": [
    "### Plotting Plymouth Data\n",
    "\n",
    "* Decided to plot plymouth data to investigate the plotting further\n",
    "* **NOTE** that i have manually assigned colours for visual representation at this point\n"
   ]
  },
  {
   "cell_type": "code",
   "execution_count": null,
   "metadata": {},
   "outputs": [],
   "source": [
    "color_map = {349:\"red\",\n",
    "              350:\"blue\"}\n",
    "\n",
    "ply_df = boundaries_map.loc[boundaries_map[\"PCON19NM\"].str.contains(\"Plymouth\")]\n",
    "ply_df\n",
    "\n",
    "#ply_df.info()\n",
    "fig, ax = plt.subplots(figsize=(10,6))\n",
    "\n",
    "for idx, row in ply_df.iterrows():\n",
    "    row_df = gpd.GeoDataFrame(row.to_frame().T)\n",
    "    #row_df.info()\n",
    "    _ = row_df.plot(ax=ax, \n",
    "            color=color_map[idx],\n",
    "            label=row_df[\"PCON19NM\"].values.tolist()[0] )\n",
    "    \n",
    "    _ = row_df.apply(lambda x: ax.annotate(text=x['PCON19NM'], \n",
    "                                       xy=x.geometry.centroid.coords[0], \n",
    "                                       fontsize = 12,\n",
    "                                       backgroundcolor = '0.75',\n",
    "                                       ha='center'), axis=1);\n",
    "\n"
   ]
  },
  {
   "cell_type": "markdown",
   "metadata": {},
   "source": [
    "### Joining data together\n",
    "\n",
    "* Looked ID comparison and name comparison to see how to join the data.\n",
    "* ID data appears to match one-to-one.\n",
    "* The name data appears not quite match with some values appearing in 1 dataframe but not the other, this appears to be punctuation related."
   ]
  },
  {
   "cell_type": "code",
   "execution_count": null,
   "metadata": {},
   "outputs": [],
   "source": [
    "[x for x in results[\"ONS ID\"].values if x not in boundaries_map[\"PCON19CD\"].values]\n",
    "[x for x in results[\"Constituency name\"].values if x not in boundaries_map[\"PCON19NM\"].values]\n",
    "[x for x in boundaries_map[\"PCON19NM\"].values if x not in results[\"Constituency name\"].values]"
   ]
  },
  {
   "cell_type": "code",
   "execution_count": null,
   "metadata": {},
   "outputs": [],
   "source": [
    "all_data_df = (results.merge(boundaries_map,\n",
    "                            how=\"inner\",\n",
    "                            left_on=\"ONS ID\",\n",
    "                            right_on=\"PCON19CD\")\n",
    "    .sort_values([\"Constituency name\"], ignore_index=True)\n",
    ")                            \n",
    "all_data_df.head(3)"
   ]
  },
  {
   "cell_type": "markdown",
   "metadata": {},
   "source": [
    "### Plotting all data (ex NI) \n",
    "\n",
    "WE want to plat the UK data with the winning parlimentary colours"
   ]
  },
  {
   "cell_type": "code",
   "execution_count": null,
   "metadata": {},
   "outputs": [],
   "source": [
    "all_data_df[\"First party\"].value_counts()\n",
    "all_data_df = gpd.GeoDataFrame(all_data_df)"
   ]
  },
  {
   "cell_type": "code",
   "execution_count": null,
   "metadata": {},
   "outputs": [],
   "source": [
    "colour_map = {\"Lab\":\"red\",\n",
    "              \"Con\":\"blue\",\n",
    "              \"SNP\":\"yellow\",\n",
    "              \"LD\":\"orange\",\n",
    "              \"PC\":\"brown\",\n",
    "              \"BRX\":\"teal\",\n",
    "              \"Grean\":\"green\",\n",
    "              \"DUP\":\"purple\",\n",
    "              \"SF\":\"purple\",\n",
    "              \"SDLP\":\"purple\",\n",
    "              \"Spk\":\"purple\",\n",
    "              \"APNI\":\"purple\",\n",
    "              }\n",
    "all_data_df[\"colour\"] = all_data_df[\"First party\"].replace(colour_map)"
   ]
  },
  {
   "cell_type": "code",
   "execution_count": null,
   "metadata": {},
   "outputs": [],
   "source": [
    "#ply_df.info()\n",
    "fig, ax = plt.subplots(figsize=(25,20))\n",
    "\n",
    "all_data_df.plot(ax=ax, \n",
    "    color=all_data_df[\"colour\"]\n",
    "    )\n"
   ]
  },
  {
   "cell_type": "code",
   "execution_count": null,
   "metadata": {},
   "outputs": [],
   "source": []
  }
 ],
 "metadata": {
  "kernelspec": {
   "display_name": "base",
   "language": "python",
   "name": "python3"
  },
  "language_info": {
   "codemirror_mode": {
    "name": "ipython",
    "version": 3
   },
   "file_extension": ".py",
   "mimetype": "text/x-python",
   "name": "python",
   "nbconvert_exporter": "python",
   "pygments_lexer": "ipython3",
   "version": "3.11.9"
  }
 },
 "nbformat": 4,
 "nbformat_minor": 2
}
